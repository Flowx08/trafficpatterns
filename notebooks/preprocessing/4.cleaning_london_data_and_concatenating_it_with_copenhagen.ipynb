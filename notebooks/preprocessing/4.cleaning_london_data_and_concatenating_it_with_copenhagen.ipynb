{
 "cells": [
  {
   "cell_type": "markdown",
   "id": "accfcb9d",
   "metadata": {},
   "source": [
    "# Imports"
   ]
  },
  {
   "cell_type": "code",
   "execution_count": 41,
   "id": "befd2f85",
   "metadata": {},
   "outputs": [],
   "source": [
    "import pandas as pd"
   ]
  },
  {
   "cell_type": "markdown",
   "id": "507c52ce",
   "metadata": {},
   "source": [
    "# Loads"
   ]
  },
  {
   "cell_type": "code",
   "execution_count": 42,
   "id": "faf80c70",
   "metadata": {},
   "outputs": [],
   "source": [
    "london_traffic = pd.read_csv('Material/london_traffic.csv')\n",
    "london_weather = pd.read_csv('Material/londonweather.csv')\n",
    "all_cph = pd.read_csv('Material/copenhagen_merged_data.csv')"
   ]
  },
  {
   "cell_type": "markdown",
   "id": "3752ae80",
   "metadata": {},
   "source": [
    "# Processing"
   ]
  },
  {
   "cell_type": "code",
   "execution_count": 44,
   "id": "0015f9e3",
   "metadata": {},
   "outputs": [],
   "source": [
    "# Select columns\n",
    "london_traffic = london_traffic[['count_date','latitude', 'longitude','hour','pedal_cycles','all_motor_vehicles']]\n",
    "\n",
    "# Insert the city column\n",
    "london_traffic.insert(2, 'city', 'London')\n",
    "\n",
    "# Rename the columns\n",
    "london_traffic.columns = ['time','latitude','city','longitude',\n",
    "                          'hour', 'bicycle','vehicle']\n",
    "\n",
    "# Split bicycle and \n",
    "london_traffic = london_traffic.melt(id_vars = ['time','city','latitude','longitude', 'hour'],\n",
    "                         var_name = 'type', \n",
    "                         value_name = \"count\").sort_values('time')\n",
    "\n",
    "# Change datetime to include an hour\n",
    "london_traffic['time'] = pd.to_datetime(london_traffic['time'])\n",
    "london_traffic['time'] = london_traffic['time'] +  pd.to_timedelta(london_traffic['hour'], unit='h')\n",
    "\n",
    "\n",
    "# Change to datetime \n",
    "london_weather['time'] = pd.to_datetime(london_weather['time'])\n",
    "\n",
    "# Add weather data\n",
    "merged = london_weather.merge(london_traffic, how='inner', on='time')\n",
    "\n",
    "# Take only necessary columns\n",
    "merged = merged[['time', 'city', 'temp', 'dwpt', 'rhum', 'wdir', 'wspd', 'pres',\n",
    "       'latitude', 'longitude', 'hour', 'type', 'count']]\n",
    "\n",
    "# Concatenate both datasets\n",
    "df = pd.concat([all_cph,merged], axis=0)\n",
    "\n",
    "# Save them to the file\n",
    "df.to_csv('Material/data.csv')"
   ]
  },
  {
   "cell_type": "code",
   "execution_count": null,
   "id": "8d9880f5",
   "metadata": {},
   "outputs": [],
   "source": [
    "df"
   ]
  }
 ],
 "metadata": {
  "kernelspec": {
   "display_name": "Python 3 (ipykernel)",
   "language": "python",
   "name": "python3"
  },
  "language_info": {
   "codemirror_mode": {
    "name": "ipython",
    "version": 3
   },
   "file_extension": ".py",
   "mimetype": "text/x-python",
   "name": "python",
   "nbconvert_exporter": "python",
   "pygments_lexer": "ipython3",
   "version": "3.9.7"
  }
 },
 "nbformat": 4,
 "nbformat_minor": 5
}
