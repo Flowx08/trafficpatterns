{
 "cells": [
  {
   "cell_type": "markdown",
   "id": "88f3a181",
   "metadata": {},
   "source": [
    "# Imports"
   ]
  },
  {
   "cell_type": "code",
   "execution_count": 146,
   "id": "2ed754ce",
   "metadata": {},
   "outputs": [],
   "source": [
    "import pandas as pd\n",
    "import utm"
   ]
  },
  {
   "cell_type": "markdown",
   "id": "93a399b2",
   "metadata": {},
   "source": [
    "# Funcrions to prepare a file from 1 year"
   ]
  },
  {
   "cell_type": "code",
   "execution_count": 157,
   "id": "1de9dd4f",
   "metadata": {},
   "outputs": [],
   "source": [
    "# Translating coordinates from UTM32 to long lat \n",
    "def translate(x,y):\n",
    "    x_tr,y_tr = utm.to_latlon(x, y, 32, 'U')\n",
    "    return x_tr,y_tr\n",
    "\n",
    "# Process 1 file \n",
    "def process_file(file_name,vehicle_type):\n",
    "    # Load the file\n",
    "    df_tmp = pd.read_excel(file_name, skiprows=10)  \n",
    "    \n",
    "    # Select columns\n",
    "    df_tmp = df_tmp[['(UTM32)', '(UTM32).1',  'Dato', 'kl.00-01',\n",
    "           'kl.01-02', 'kl.02-03', 'kl.03-04', 'kl.04-05', 'kl.05-06', 'kl.06-07',\n",
    "           'kl.07-08', 'kl.08-09', 'kl.09-10', 'kl.10-11', 'kl.11-12', 'kl.12-13',\n",
    "           'kl.13-14', 'kl.14-15', 'kl.15-16', 'kl.16-17', 'kl.17-18', 'kl.18-19',\n",
    "           'kl.19-20', 'kl.20-21', 'kl.21-22', 'kl.22-23', 'kl.23-24']]\n",
    "\n",
    "    # Rename columns\n",
    "    df_tmp.columns = ['(UTM32)','(UTM32).1','time','0',\n",
    "                          '1','2','3','4','5','6','7', '8',\n",
    "                          '9','10','11','12','13','14','15',\n",
    "                          '16','17','18','19','20','21','22','23']\n",
    "\n",
    "    # Translate coordinates from utm to longtitude and lattitude\n",
    "    df_tmp['point'] = df_tmp.apply(lambda x: translate(x['(UTM32)'], x['(UTM32).1']), axis=1)\n",
    "    df_tmp['latitude'] = df_tmp.point.apply(lambda x: x[0])\n",
    "    df_tmp['longitude'] = df_tmp.point.apply(lambda x: x[1])\n",
    "\n",
    "    # Drop temporary colmns\n",
    "    df_tmp = df_tmp[['latitude','longitude','time','0',\n",
    "                     '1','2','3','4','5','6','7', '8',\n",
    "                     '9','10','11','12','13','14','15',\n",
    "                     '16','17','18','19','20','21','22','23']]\n",
    "\n",
    "    # Change date into datetime\n",
    "    df_tmp['time'] =  pd.to_datetime(df_tmp['time'])\n",
    "\n",
    "    # Rotate hours\n",
    "    df_tmp = df_tmp.melt(id_vars = ['latitude','longitude','time'],\n",
    "                         var_name = 'hour', \n",
    "                         value_name = \"count\").sort_values('time')\n",
    "    print(df_tmp.shape)\n",
    "    return df_tmp"
   ]
  },
  {
   "cell_type": "markdown",
   "id": "4eb42175",
   "metadata": {},
   "source": [
    "# Combine and save datasets"
   ]
  },
  {
   "cell_type": "code",
   "execution_count": null,
   "id": "5d9e7b4e",
   "metadata": {},
   "outputs": [],
   "source": [
    "# Concatinate processed bicycle files into 1 dataframe and save it in csv\n",
    "transport = 'bicycle'\n",
    "df = process_file('Material/cykeltaellinger-2010.xlsx', transport)\n",
    "for year in range(2011,2015):\n",
    "    name_of_file = 'Material/cykeltaellinger-{}.xlsx'.format(year)\n",
    "    df = pd.concat([df,process_file(name_of_file, transport)], axis=0)\n",
    "df.to_csv('Material/copenhagen_{}_counts.csv'.format(transport))"
   ]
  },
  {
   "cell_type": "code",
   "execution_count": null,
   "id": "d067a216",
   "metadata": {},
   "outputs": [],
   "source": [
    "df"
   ]
  },
  {
   "cell_type": "code",
   "execution_count": null,
   "id": "91a651d1",
   "metadata": {},
   "outputs": [],
   "source": [
    "# Concatinate processed vehicle files into 1 dataframe and save it in csv\n",
    "transport = 'vehicle'\n",
    "df = process_file('Material/cykeltaellinger-2010.xlsx', transport)\n",
    "for year in range(2011,2015):\n",
    "    name_of_file = 'Material/cykeltaellinger-{}.xlsx'.format(year)\n",
    "    df = pd.concat([df,process_file(name_of_file, transport)], axis=0)\n",
    "df.to_csv('Material/copenhagen_{}_counts.csv'.format(transport))"
   ]
  },
  {
   "cell_type": "code",
   "execution_count": null,
   "id": "63e5619b",
   "metadata": {},
   "outputs": [],
   "source": [
    "df"
   ]
  }
 ],
 "metadata": {
  "kernelspec": {
   "display_name": "Python 3 (ipykernel)",
   "language": "python",
   "name": "python3"
  },
  "language_info": {
   "codemirror_mode": {
    "name": "ipython",
    "version": 3
   },
   "file_extension": ".py",
   "mimetype": "text/x-python",
   "name": "python",
   "nbconvert_exporter": "python",
   "pygments_lexer": "ipython3",
   "version": "3.9.7"
  }
 },
 "nbformat": 4,
 "nbformat_minor": 5
}
