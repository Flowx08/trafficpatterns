{
 "cells": [
  {
   "cell_type": "markdown",
   "id": "f7f9ee4a",
   "metadata": {},
   "source": [
    "# Imports"
   ]
  },
  {
   "cell_type": "code",
   "execution_count": 1,
   "id": "8924045c",
   "metadata": {},
   "outputs": [],
   "source": [
    "import pandas as pd"
   ]
  },
  {
   "cell_type": "markdown",
   "id": "6f9b6b1b",
   "metadata": {},
   "source": [
    "# Loads"
   ]
  },
  {
   "cell_type": "code",
   "execution_count": 2,
   "id": "3e446770",
   "metadata": {},
   "outputs": [],
   "source": [
    "copenhage_weather = pd.read_csv('Material/copenhagenweather.csv')\n",
    "copenhage_bicycle_counts = pd.read_csv('Material/copenhagen_bicycle_counts.csv')\n",
    "copenhage_vehicle_counts = pd.read_csv('Material/copenhagen_vehicle_counts.csv')"
   ]
  },
  {
   "cell_type": "markdown",
   "id": "07bdba59",
   "metadata": {},
   "source": [
    "# Processing"
   ]
  },
  {
   "cell_type": "code",
   "execution_count": 7,
   "id": "ce95f93f",
   "metadata": {},
   "outputs": [],
   "source": [
    "# Inserting the type of observed transport in the dataframe\n",
    "copenhage_vehicle_counts.insert(5, 'type', 'vehicle')\n",
    "copenhage_bicycle_counts.insert(5, 'type', 'bicycle')\n",
    "\n",
    "# Change the format to datetime\n",
    "copenhage_weather['time'] =  pd.to_datetime(copenhage_weather['time'])\n",
    "\n",
    "# Drop old index cols\n",
    "copenhage_vehicle_counts = copenhage_vehicle_counts.drop('Unnamed: 0', axis = 1)\n",
    "copenhage_bicycle_counts = copenhage_bicycle_counts.drop('Unnamed: 0', axis = 1)\n",
    "\n",
    "# Change time to datetime and add an hour to it\n",
    "copenhage_vehicle_counts['time'] = pd.to_datetime(copenhage_vehicle_counts['time'])\n",
    "copenhage_vehicle_counts['time'] = copenhage_vehicle_counts['time'] +  pd.to_timedelta(copenhage_vehicle_counts['hour'], unit='h')\n",
    "copenhage_bicycle_counts['time'] = pd.to_datetime(copenhage_bicycle_counts['time'])\n",
    "copenhage_bicycle_counts['time'] = copenhage_bicycle_counts['time'] +  pd.to_timedelta(copenhage_bicycle_counts['hour'], unit='h')\n",
    "\n",
    "# add weather data to both count datasets and merge them\n",
    "merged_bikes = copenhage_weather.merge(copenhage_bicycle_counts, how='inner', on='time')\n",
    "merged_vehicle = copenhage_weather.merge(copenhage_vehicle_counts, how='inner', on='time')\n",
    "df = pd.concat([merged_bikes,merged_vehicle], axis=0).sort_values(by=['time'])\n",
    "\n",
    "# Add a city column\n",
    "df.insert(1, 'city', 'Copenhagen')\n",
    "\n",
    "# Save to the csv file\n",
    "df.to_csv('Material/joined_df_cop.csv')"
   ]
  },
  {
   "cell_type": "code",
   "execution_count": 13,
   "id": "467492e0",
   "metadata": {},
   "outputs": [],
   "source": [
    "df"
   ]
  }
 ],
 "metadata": {
  "kernelspec": {
   "display_name": "Python 3 (ipykernel)",
   "language": "python",
   "name": "python3"
  },
  "language_info": {
   "codemirror_mode": {
    "name": "ipython",
    "version": 3
   },
   "file_extension": ".py",
   "mimetype": "text/x-python",
   "name": "python",
   "nbconvert_exporter": "python",
   "pygments_lexer": "ipython3",
   "version": "3.9.7"
  }
 },
 "nbformat": 4,
 "nbformat_minor": 5
}
